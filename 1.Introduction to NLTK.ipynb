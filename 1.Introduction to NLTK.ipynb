{
 "cells": [
  {
   "cell_type": "code",
   "execution_count": 1,
   "id": "0c464425-2f97-4665-9ecd-98dc06e78917",
   "metadata": {},
   "outputs": [
    {
     "name": "stderr",
     "output_type": "stream",
     "text": [
      "[nltk_data] Downloading package punkt to\n",
      "[nltk_data]     C:\\Users\\achyu\\AppData\\Roaming\\nltk_data...\n",
      "[nltk_data]   Package punkt is already up-to-date!\n"
     ]
    },
    {
     "data": {
      "text/plain": [
       "True"
      ]
     },
     "execution_count": 1,
     "metadata": {},
     "output_type": "execute_result"
    }
   ],
   "source": [
    "import nltk\n",
    "nltk.download('punkt')"
   ]
  },
  {
   "cell_type": "code",
   "execution_count": 15,
   "id": "d76709f1-e15d-43a7-93d3-691f37091fa0",
   "metadata": {},
   "outputs": [],
   "source": [
    "txt = \"Hello students. Hoping this NLP course helpful for developing skills.\""
   ]
  },
  {
   "cell_type": "code",
   "execution_count": 17,
   "id": "55f77230-5f02-4ec1-aa1e-68099193fae0",
   "metadata": {},
   "outputs": [
    {
     "data": {
      "text/plain": [
       "'Hello students. Hoping this NLP course helpful for developing skills.'"
      ]
     },
     "execution_count": 17,
     "metadata": {},
     "output_type": "execute_result"
    }
   ],
   "source": [
    "txt"
   ]
  },
  {
   "cell_type": "code",
   "execution_count": 19,
   "id": "e3353d99-4200-46db-a8cd-86bae440ddce",
   "metadata": {},
   "outputs": [
    {
     "data": {
      "text/plain": [
       "3"
      ]
     },
     "execution_count": 19,
     "metadata": {},
     "output_type": "execute_result"
    }
   ],
   "source": [
    "len(txt.split('.'))"
   ]
  },
  {
   "cell_type": "code",
   "execution_count": 21,
   "id": "3ad9dbdb-a8b0-43c4-b5cd-068f39928d58",
   "metadata": {},
   "outputs": [
    {
     "data": {
      "text/plain": [
       "['Hello',\n",
       " 'students.',\n",
       " 'Hoping',\n",
       " 'this',\n",
       " 'NLP',\n",
       " 'course',\n",
       " 'helpful',\n",
       " 'for',\n",
       " 'developing',\n",
       " 'skills.']"
      ]
     },
     "execution_count": 21,
     "metadata": {},
     "output_type": "execute_result"
    }
   ],
   "source": [
    "txt.split(' ')"
   ]
  },
  {
   "cell_type": "code",
   "execution_count": 30,
   "id": "944d7546-64f5-478e-a692-7012d56e6dd9",
   "metadata": {},
   "outputs": [],
   "source": [
    "from nltk.tokenize import word_tokenize, sent_tokenize"
   ]
  },
  {
   "cell_type": "code",
   "execution_count": 32,
   "id": "806f7d50-fa70-4cdf-83b8-9c69d5619735",
   "metadata": {},
   "outputs": [
    {
     "data": {
      "text/plain": [
       "['Hello',\n",
       " 'students',\n",
       " '.',\n",
       " 'Hoping',\n",
       " 'this',\n",
       " 'NLP',\n",
       " 'course',\n",
       " 'helpful',\n",
       " 'for',\n",
       " 'developing',\n",
       " 'skills',\n",
       " '.']"
      ]
     },
     "execution_count": 32,
     "metadata": {},
     "output_type": "execute_result"
    }
   ],
   "source": [
    "word_tokenize(txt)"
   ]
  },
  {
   "cell_type": "code",
   "execution_count": 28,
   "id": "8da8664a-930f-496f-8862-d4ad554ebed0",
   "metadata": {},
   "outputs": [
    {
     "data": {
      "text/plain": [
       "['Hello students.', 'Hoping this NLP course helpful for developing skills.']"
      ]
     },
     "execution_count": 28,
     "metadata": {},
     "output_type": "execute_result"
    }
   ],
   "source": [
    "sent_tokenize(txt)"
   ]
  },
  {
   "cell_type": "code",
   "execution_count": 34,
   "id": "df54064a-2d86-46b5-9d25-7dc932a275df",
   "metadata": {},
   "outputs": [
    {
     "name": "stdout",
     "output_type": "stream",
     "text": [
      "Hello\n",
      "students\n",
      "Hoping\n",
      "this\n",
      "NLP\n",
      "course\n",
      "helpful\n",
      "for\n",
      "developing\n",
      "skills\n"
     ]
    }
   ],
   "source": [
    "for word in word_tokenize(txt):\n",
    "    if(word != '.'):\n",
    "        print(word)"
   ]
  },
  {
   "cell_type": "code",
   "execution_count": null,
   "id": "c06bc3c2-1641-4371-a681-265479969882",
   "metadata": {},
   "outputs": [],
   "source": []
  }
 ],
 "metadata": {
  "kernelspec": {
   "display_name": "Python 3 (ipykernel)",
   "language": "python",
   "name": "python3"
  },
  "language_info": {
   "codemirror_mode": {
    "name": "ipython",
    "version": 3
   },
   "file_extension": ".py",
   "mimetype": "text/x-python",
   "name": "python",
   "nbconvert_exporter": "python",
   "pygments_lexer": "ipython3",
   "version": "3.11.7"
  }
 },
 "nbformat": 4,
 "nbformat_minor": 5
}
