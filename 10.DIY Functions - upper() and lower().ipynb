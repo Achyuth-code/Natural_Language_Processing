{
 "cells": [
  {
   "cell_type": "code",
   "execution_count": 1,
   "id": "bb7db598-d889-4fdd-8fd5-63ecddd7ddcd",
   "metadata": {},
   "outputs": [],
   "source": [
    "txt = 'The girl is cute'"
   ]
  },
  {
   "cell_type": "markdown",
   "id": "74f7d346-8a65-418b-a67b-62b7d2249d4c",
   "metadata": {},
   "source": [
    "## upper()"
   ]
  },
  {
   "cell_type": "code",
   "execution_count": 4,
   "id": "28be95c7-0dc5-4419-b030-3470a2339c27",
   "metadata": {},
   "outputs": [
    {
     "data": {
      "text/plain": [
       "'THE GIRL IS CUTE'"
      ]
     },
     "execution_count": 4,
     "metadata": {},
     "output_type": "execute_result"
    }
   ],
   "source": [
    "def upper(txt):\n",
    "    string = ''\n",
    "    for char in txt:\n",
    "        if(ord(char) >= 97 and ord(char) <= 122):\n",
    "            string += chr(ord(char) - 32)\n",
    "        else:\n",
    "            string += char\n",
    "    return string\n",
    "upper(txt)"
   ]
  },
  {
   "cell_type": "markdown",
   "id": "fb01d8a0-5093-432d-b0c4-c533a4d18243",
   "metadata": {},
   "source": [
    "## Lower()"
   ]
  },
  {
   "cell_type": "code",
   "execution_count": 11,
   "id": "ee46a114-1d27-4f97-a7e1-ce7736302fc4",
   "metadata": {},
   "outputs": [
    {
     "data": {
      "text/plain": [
       "'the girl is cute'"
      ]
     },
     "execution_count": 11,
     "metadata": {},
     "output_type": "execute_result"
    }
   ],
   "source": [
    "def upper(txt):\n",
    "    string = ''\n",
    "    for char in txt:\n",
    "        if(ord(char) >= 65 and ord(char) <= 91):\n",
    "            string += chr(ord(char) + 32)\n",
    "        else:\n",
    "            string += char\n",
    "    return string\n",
    "txt.lower()"
   ]
  },
  {
   "cell_type": "code",
   "execution_count": null,
   "id": "8ebb7e67-6852-4b04-a8b1-1d5fdbab2674",
   "metadata": {},
   "outputs": [],
   "source": []
  }
 ],
 "metadata": {
  "kernelspec": {
   "display_name": "Python 3 (ipykernel)",
   "language": "python",
   "name": "python3"
  },
  "language_info": {
   "codemirror_mode": {
    "name": "ipython",
    "version": 3
   },
   "file_extension": ".py",
   "mimetype": "text/x-python",
   "name": "python",
   "nbconvert_exporter": "python",
   "pygments_lexer": "ipython3",
   "version": "3.11.7"
  }
 },
 "nbformat": 4,
 "nbformat_minor": 5
}
