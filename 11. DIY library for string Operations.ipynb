{
 "cells": [
  {
   "cell_type": "markdown",
   "id": "538ae14a-294a-43d7-b2a9-5c550855aa11",
   "metadata": {},
   "source": [
    "## Calling all the functions from the file"
   ]
  },
  {
   "cell_type": "code",
   "execution_count": 6,
   "id": "fb04beb6-4b91-48e7-b262-320b19e1e879",
   "metadata": {},
   "outputs": [
    {
     "name": "stdout",
     "output_type": "stream",
     "text": [
      "Collecting nlp\n",
      "  Using cached nlp-0.4.0-py3-none-any.whl.metadata (5.0 kB)\n",
      "Requirement already satisfied: numpy in c:\\users\\achyu\\anaconda3\\lib\\site-packages (from nlp) (1.26.3)\n",
      "Requirement already satisfied: pyarrow>=0.16.0 in c:\\users\\achyu\\anaconda3\\lib\\site-packages (from nlp) (14.0.2)\n",
      "Requirement already satisfied: dill in c:\\users\\achyu\\anaconda3\\lib\\site-packages (from nlp) (0.3.6)\n",
      "Requirement already satisfied: pandas in c:\\users\\achyu\\anaconda3\\lib\\site-packages (from nlp) (2.1.4)\n",
      "Requirement already satisfied: requests>=2.19.0 in c:\\users\\achyu\\anaconda3\\lib\\site-packages (from nlp) (2.31.0)\n",
      "Requirement already satisfied: tqdm>=4.27 in c:\\users\\achyu\\anaconda3\\lib\\site-packages (from nlp) (4.65.0)\n",
      "Requirement already satisfied: filelock in c:\\users\\achyu\\anaconda3\\lib\\site-packages (from nlp) (3.13.1)\n",
      "Requirement already satisfied: xxhash in c:\\users\\achyu\\anaconda3\\lib\\site-packages (from nlp) (2.0.2)\n",
      "Requirement already satisfied: charset-normalizer<4,>=2 in c:\\users\\achyu\\anaconda3\\lib\\site-packages (from requests>=2.19.0->nlp) (2.0.4)\n",
      "Requirement already satisfied: idna<4,>=2.5 in c:\\users\\achyu\\anaconda3\\lib\\site-packages (from requests>=2.19.0->nlp) (3.4)\n",
      "Requirement already satisfied: urllib3<3,>=1.21.1 in c:\\users\\achyu\\anaconda3\\lib\\site-packages (from requests>=2.19.0->nlp) (2.0.7)\n",
      "Requirement already satisfied: certifi>=2017.4.17 in c:\\users\\achyu\\anaconda3\\lib\\site-packages (from requests>=2.19.0->nlp) (2024.7.4)\n",
      "Requirement already satisfied: colorama in c:\\users\\achyu\\anaconda3\\lib\\site-packages (from tqdm>=4.27->nlp) (0.4.6)\n",
      "Requirement already satisfied: python-dateutil>=2.8.2 in c:\\users\\achyu\\anaconda3\\lib\\site-packages (from pandas->nlp) (2.8.2)\n",
      "Requirement already satisfied: pytz>=2020.1 in c:\\users\\achyu\\anaconda3\\lib\\site-packages (from pandas->nlp) (2023.3.post1)\n",
      "Requirement already satisfied: tzdata>=2022.1 in c:\\users\\achyu\\anaconda3\\lib\\site-packages (from pandas->nlp) (2023.3)\n",
      "Requirement already satisfied: six>=1.5 in c:\\users\\achyu\\anaconda3\\lib\\site-packages (from python-dateutil>=2.8.2->pandas->nlp) (1.16.0)\n",
      "Using cached nlp-0.4.0-py3-none-any.whl (1.7 MB)\n",
      "Installing collected packages: nlp\n",
      "Successfully installed nlp-0.4.0\n"
     ]
    }
   ],
   "source": [
    "! pip install nlp"
   ]
  },
  {
   "cell_type": "code",
   "execution_count": 8,
   "id": "5ea798a1-489b-4251-9c49-7bdbe8dcf357",
   "metadata": {},
   "outputs": [],
   "source": [
    "import nlp"
   ]
  },
  {
   "cell_type": "code",
   "execution_count": 18,
   "id": "56dae31f-1aa6-49bc-a051-45fcc682b407",
   "metadata": {},
   "outputs": [
    {
     "data": {
      "text/plain": [
       "<module 'nlp' from 'C:\\\\Users\\\\achyu\\\\anaconda3\\\\Lib\\\\site-packages\\\\nlp\\\\__init__.py'>"
      ]
     },
     "execution_count": 18,
     "metadata": {},
     "output_type": "execute_result"
    }
   ],
   "source": [
    "import importlib\n",
    "import nlp\n",
    "importlib.reload(nlp)"
   ]
  },
  {
   "cell_type": "code",
   "execution_count": 22,
   "id": "534477ef-0f03-49c7-809c-bd157d597a49",
   "metadata": {},
   "outputs": [
    {
     "name": "stdout",
     "output_type": "stream",
     "text": [
      "Hello how are you?\n"
     ]
    }
   ],
   "source": [
    "text = \"hello how are you?\"\n",
    "result = text.capitalize()\n",
    "print(result)"
   ]
  },
  {
   "cell_type": "code",
   "execution_count": null,
   "id": "e1d0b33d-836d-4cc7-ab55-ffee274ff80a",
   "metadata": {},
   "outputs": [],
   "source": []
  }
 ],
 "metadata": {
  "kernelspec": {
   "display_name": "Python 3 (ipykernel)",
   "language": "python",
   "name": "python3"
  },
  "language_info": {
   "codemirror_mode": {
    "name": "ipython",
    "version": 3
   },
   "file_extension": ".py",
   "mimetype": "text/x-python",
   "name": "python",
   "nbconvert_exporter": "python",
   "pygments_lexer": "ipython3",
   "version": "3.11.7"
  }
 },
 "nbformat": 4,
 "nbformat_minor": 5
}
