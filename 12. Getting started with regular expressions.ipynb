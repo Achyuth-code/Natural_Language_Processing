{
 "cells": [
  {
   "cell_type": "code",
   "execution_count": 1,
   "id": "f2fc3c9d-6666-45a7-9331-7964bd4a4ee0",
   "metadata": {},
   "outputs": [],
   "source": [
    "import re"
   ]
  },
  {
   "cell_type": "markdown",
   "id": "580cc86c-475c-44cc-9f7c-cf49b458c9cf",
   "metadata": {},
   "source": [
    "# Search"
   ]
  },
  {
   "cell_type": "code",
   "execution_count": 6,
   "id": "56f39335-cc00-4e2a-8a2e-4d3e9fe8e28a",
   "metadata": {},
   "outputs": [],
   "source": [
    "srch = re.search(\"you\", \"hello, how are you\")"
   ]
  },
  {
   "cell_type": "code",
   "execution_count": 10,
   "id": "3db15b61-2aae-4e74-9743-e85e18093b3a",
   "metadata": {},
   "outputs": [
    {
     "data": {
      "text/plain": [
       "(15, 18)"
      ]
     },
     "execution_count": 10,
     "metadata": {},
     "output_type": "execute_result"
    }
   ],
   "source": [
    "srch.span()"
   ]
  },
  {
   "cell_type": "code",
   "execution_count": 12,
   "id": "6d37cb6e-f053-40cf-9784-1d0e9182824a",
   "metadata": {},
   "outputs": [
    {
     "data": {
      "text/plain": [
       "15"
      ]
     },
     "execution_count": 12,
     "metadata": {},
     "output_type": "execute_result"
    }
   ],
   "source": [
    "srch.start()"
   ]
  },
  {
   "cell_type": "code",
   "execution_count": 14,
   "id": "36329bc6-0eee-466b-9bda-cb30e4cbbbbf",
   "metadata": {},
   "outputs": [
    {
     "data": {
      "text/plain": [
       "18"
      ]
     },
     "execution_count": 14,
     "metadata": {},
     "output_type": "execute_result"
    }
   ],
   "source": [
    "srch.end()"
   ]
  },
  {
   "cell_type": "markdown",
   "id": "a1110d5f-9172-4a9f-993b-31fc4f53b2a6",
   "metadata": {},
   "source": [
    "# Findall"
   ]
  },
  {
   "cell_type": "code",
   "execution_count": 21,
   "id": "357008e9-76ae-4c47-bd7f-01b84d8e2b99",
   "metadata": {},
   "outputs": [
    {
     "data": {
      "text/plain": [
       "['are ']"
      ]
     },
     "execution_count": 21,
     "metadata": {},
     "output_type": "execute_result"
    }
   ],
   "source": [
    "a = \"hi guys how are you?\"\n",
    "b = \"are.\"\n",
    "re.findall(b,a)"
   ]
  },
  {
   "cell_type": "code",
   "execution_count": 23,
   "id": "9e5621ff-caa3-49b2-9127-11a04b47a6ed",
   "metadata": {},
   "outputs": [
    {
     "data": {
      "text/plain": [
       "1"
      ]
     },
     "execution_count": 23,
     "metadata": {},
     "output_type": "execute_result"
    }
   ],
   "source": [
    "a = \"hi guys how are you?\"\n",
    "b = \"are.\"\n",
    "len(re.findall(b,a))"
   ]
  },
  {
   "cell_type": "markdown",
   "id": "d53edf4e-8b5e-47e1-b70b-cf7413fac231",
   "metadata": {},
   "source": [
    "# Finditer"
   ]
  },
  {
   "cell_type": "code",
   "execution_count": 26,
   "id": "ffc6f0ef-e6ef-469a-a662-5422189d9e7a",
   "metadata": {},
   "outputs": [
    {
     "name": "stdout",
     "output_type": "stream",
     "text": [
      "(4, 7)\n"
     ]
    }
   ],
   "source": [
    "for s in re.finditer(\"are\",\"how are you?\"):\n",
    "    print(s.span())"
   ]
  },
  {
   "cell_type": "markdown",
   "id": "2ebf759f-ffef-4f27-bf89-2436882e33b7",
   "metadata": {},
   "source": [
    "# Creating Regular Expressions"
   ]
  },
  {
   "cell_type": "code",
   "execution_count": 35,
   "id": "7e8ea9a9-7e78-4946-9084-24321ba4f432",
   "metadata": {},
   "outputs": [
    {
     "data": {
      "text/plain": [
       "<re.Match object; span=(16, 28), match='834-4324-345'>"
      ]
     },
     "execution_count": 35,
     "metadata": {},
     "output_type": "execute_result"
    }
   ],
   "source": [
    "txt = 'My id number is 834-4324-345'\n",
    "pattern = '\\d\\d\\d-\\d\\d\\d\\d-\\d\\d\\d'\n",
    "re.search(pattern, txt)"
   ]
  },
  {
   "cell_type": "code",
   "execution_count": 37,
   "id": "cf143faf-9945-4bc2-9552-ad436f697771",
   "metadata": {},
   "outputs": [
    {
     "data": {
      "text/plain": [
       "<re.Match object; span=(16, 28), match='834-4324-345'>"
      ]
     },
     "execution_count": 37,
     "metadata": {},
     "output_type": "execute_result"
    }
   ],
   "source": [
    "txt = 'My id number is 834-4324-345'\n",
    "pattern = '\\d{3}-\\d{4}-\\d{3}'\n",
    "re.search(pattern, txt)"
   ]
  },
  {
   "cell_type": "code",
   "execution_count": 41,
   "id": "3373c984-6342-431b-80a8-f489f828b446",
   "metadata": {},
   "outputs": [
    {
     "data": {
      "text/plain": [
       "'834-4324-345'"
      ]
     },
     "execution_count": 41,
     "metadata": {},
     "output_type": "execute_result"
    }
   ],
   "source": [
    "txt = 'My id number is 834-4324-345'\n",
    "pattern = '\\d{3}-\\d{4}-\\d{3}'\n",
    "re.search(pattern, txt).group()"
   ]
  },
  {
   "cell_type": "code",
   "execution_count": null,
   "id": "88dd3e30-a16d-4b1c-9ec0-3e896cf9c6fd",
   "metadata": {},
   "outputs": [],
   "source": []
  }
 ],
 "metadata": {
  "kernelspec": {
   "display_name": "Python 3 (ipykernel)",
   "language": "python",
   "name": "python3"
  },
  "language_info": {
   "codemirror_mode": {
    "name": "ipython",
    "version": 3
   },
   "file_extension": ".py",
   "mimetype": "text/x-python",
   "name": "python",
   "nbconvert_exporter": "python",
   "pygments_lexer": "ipython3",
   "version": "3.11.7"
  }
 },
 "nbformat": 4,
 "nbformat_minor": 5
}
