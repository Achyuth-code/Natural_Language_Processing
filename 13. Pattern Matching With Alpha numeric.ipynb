{
 "cells": [
  {
   "cell_type": "code",
   "execution_count": 1,
   "id": "97bcfcef-144a-464d-ad40-ee20f93f8386",
   "metadata": {},
   "outputs": [],
   "source": [
    "import re"
   ]
  },
  {
   "cell_type": "markdown",
   "id": "f2a9a656-9d9e-42ea-9609-fe3863f88faf",
   "metadata": {},
   "source": [
    "## Finding pattern with specific ending"
   ]
  },
  {
   "cell_type": "code",
   "execution_count": 4,
   "id": "8ddd1959-ae88-4f36-b5db-307d8f9bc9dc",
   "metadata": {},
   "outputs": [
    {
     "data": {
      "text/plain": [
       "['at', 'at', 'at', 'at', 'at']"
      ]
     },
     "execution_count": 4,
     "metadata": {},
     "output_type": "execute_result"
    }
   ],
   "source": [
    "re.findall('at','the rat sat on the mat was attacked by a cat')"
   ]
  },
  {
   "cell_type": "code",
   "execution_count": 6,
   "id": "55f23c03-c91a-4f41-a6bb-35254671bed5",
   "metadata": {},
   "outputs": [
    {
     "data": {
      "text/plain": [
       "['rat', 'sat', 'mat', ' at', 'cat']"
      ]
     },
     "execution_count": 6,
     "metadata": {},
     "output_type": "execute_result"
    }
   ],
   "source": [
    "re.findall('.at','the rat sat on the mat was attacked by a cat')"
   ]
  },
  {
   "cell_type": "markdown",
   "id": "b1c97631-0ee2-4ddf-bd91-02af5d03d55a",
   "metadata": {},
   "source": [
    "## Start and End Pattern matching"
   ]
  },
  {
   "cell_type": "code",
   "execution_count": 9,
   "id": "c2761dfa-92cc-4a52-8ed9-e895b55dd393",
   "metadata": {},
   "outputs": [
    {
     "data": {
      "text/plain": [
       "['4', '2', '3']"
      ]
     },
     "execution_count": 9,
     "metadata": {},
     "output_type": "execute_result"
    }
   ],
   "source": [
    "re.findall('\\d','4 is divisible by 2 not by 3')"
   ]
  },
  {
   "cell_type": "code",
   "execution_count": 13,
   "id": "33768760-7595-4704-85b2-33ce065483c2",
   "metadata": {},
   "outputs": [
    {
     "data": {
      "text/plain": [
       "['3']"
      ]
     },
     "execution_count": 13,
     "metadata": {},
     "output_type": "execute_result"
    }
   ],
   "source": [
    "re.findall('\\d$','4 is divisible by 2 not by 3')"
   ]
  },
  {
   "cell_type": "code",
   "execution_count": 15,
   "id": "25c37346-d39a-4f01-999e-b1870bde3f38",
   "metadata": {},
   "outputs": [
    {
     "data": {
      "text/plain": [
       "['4']"
      ]
     },
     "execution_count": 15,
     "metadata": {},
     "output_type": "execute_result"
    }
   ],
   "source": [
    "re.findall('^\\d','4 is divisible by 2 not by 3')"
   ]
  },
  {
   "cell_type": "markdown",
   "id": "34e071c9-fbc4-4138-a3e8-b1ebbf775fad",
   "metadata": {},
   "source": [
    "## Finding capital Letters"
   ]
  },
  {
   "cell_type": "code",
   "execution_count": 24,
   "id": "b68286b1-f26b-444b-aa5d-8ade9fbbb665",
   "metadata": {},
   "outputs": [
    {
     "data": {
      "text/plain": [
       "['W', 'A', 'G', 'S']"
      ]
     },
     "execution_count": 24,
     "metadata": {},
     "output_type": "execute_result"
    }
   ],
   "source": [
    "re.findall('[A-Z]','Welcome to AGS')"
   ]
  },
  {
   "cell_type": "markdown",
   "id": "5cf676d2-5cca-4040-8a71-d08bfe1c9ccb",
   "metadata": {},
   "source": [
    "## Finding small letters"
   ]
  },
  {
   "cell_type": "code",
   "execution_count": 35,
   "id": "3d4dd710-ab02-48bc-ab51-c7c0dfb800fd",
   "metadata": {},
   "outputs": [
    {
     "data": {
      "text/plain": [
       "['e', 'l', 'c', 'o', 'm', 'e', 't', 'o', 'm', 'y', 'w', 'o', 'r', 'l', 'd']"
      ]
     },
     "execution_count": 35,
     "metadata": {},
     "output_type": "execute_result"
    }
   ],
   "source": [
    "re.findall('[a-z]', 'Welcome to my world')"
   ]
  },
  {
   "cell_type": "markdown",
   "id": "2b312af4-7772-4e21-882c-d4a29690324c",
   "metadata": {},
   "source": [
    "## Finding upper case and lower case"
   ]
  },
  {
   "cell_type": "code",
   "execution_count": 40,
   "id": "edaa54f7-201b-4201-abbc-9d997fbd34df",
   "metadata": {},
   "outputs": [
    {
     "data": {
      "text/plain": [
       "['W',\n",
       " 'e',\n",
       " 'l',\n",
       " 'c',\n",
       " 'o',\n",
       " 'm',\n",
       " 'e',\n",
       " 't',\n",
       " 'o',\n",
       " 'A',\n",
       " 'G',\n",
       " 'S',\n",
       " 'w',\n",
       " 'o',\n",
       " 'r',\n",
       " 'l',\n",
       " 'd']"
      ]
     },
     "execution_count": 40,
     "metadata": {},
     "output_type": "execute_result"
    }
   ],
   "source": [
    "re.findall('[A-Za-z]', 'Welcome to AGS world')"
   ]
  },
  {
   "cell_type": "markdown",
   "id": "d341275e-ecbc-4dc6-9cee-41f814e9508c",
   "metadata": {},
   "source": [
    "## Finding upper case,lower case and numbers"
   ]
  },
  {
   "cell_type": "code",
   "execution_count": 44,
   "id": "3952ce26-0e45-4e52-80b3-0497c86251cf",
   "metadata": {},
   "outputs": [
    {
     "data": {
      "text/plain": [
       "['W',\n",
       " 'e',\n",
       " 'l',\n",
       " 'c',\n",
       " 'o',\n",
       " 'm',\n",
       " 'e',\n",
       " 't',\n",
       " 'o',\n",
       " 'A',\n",
       " 'G',\n",
       " 'S',\n",
       " 'w',\n",
       " 'o',\n",
       " 'r',\n",
       " 'l',\n",
       " 'd',\n",
       " '2',\n",
       " '0',\n",
       " '2',\n",
       " '0',\n",
       " '1',\n",
       " '7',\n",
       " '1',\n",
       " '5']"
      ]
     },
     "execution_count": 44,
     "metadata": {},
     "output_type": "execute_result"
    }
   ],
   "source": [
    "re.findall('[A-Za-z0-9]', 'Welcome to AGS world 20201715')"
   ]
  },
  {
   "cell_type": "code",
   "execution_count": null,
   "id": "1b65390b-f59a-408e-8021-5b0ac3d834d2",
   "metadata": {},
   "outputs": [],
   "source": []
  }
 ],
 "metadata": {
  "kernelspec": {
   "display_name": "Python 3 (ipykernel)",
   "language": "python",
   "name": "python3"
  },
  "language_info": {
   "codemirror_mode": {
    "name": "ipython",
    "version": 3
   },
   "file_extension": ".py",
   "mimetype": "text/x-python",
   "name": "python",
   "nbconvert_exporter": "python",
   "pygments_lexer": "ipython3",
   "version": "3.11.7"
  }
 },
 "nbformat": 4,
 "nbformat_minor": 5
}
