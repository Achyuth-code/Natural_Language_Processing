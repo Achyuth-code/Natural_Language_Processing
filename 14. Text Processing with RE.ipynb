{
 "cells": [
  {
   "cell_type": "code",
   "execution_count": 1,
   "id": "4b9d6831-2516-41ac-8097-c85a92df3752",
   "metadata": {},
   "outputs": [],
   "source": [
    "import re"
   ]
  },
  {
   "cell_type": "markdown",
   "id": "bff99328-8f6d-4acf-8d74-d919459ea4b8",
   "metadata": {},
   "source": [
    "## Removing Special Characters"
   ]
  },
  {
   "cell_type": "code",
   "execution_count": 22,
   "id": "7bfffece-004e-47c8-9b1f-cce1956d5d2f",
   "metadata": {},
   "outputs": [],
   "source": [
    "txt = 'the weath$er is looking humid* but its not raining'"
   ]
  },
  {
   "cell_type": "code",
   "execution_count": 24,
   "id": "77582bcd-b28b-48e0-aa5d-27e9b9cac6a5",
   "metadata": {},
   "outputs": [
    {
     "data": {
      "text/plain": [
       "'the weather is looking humid but its not raining'"
      ]
     },
     "execution_count": 24,
     "metadata": {},
     "output_type": "execute_result"
    }
   ],
   "source": [
    "''.join(re.findall('[^$*]+',txt))"
   ]
  },
  {
   "cell_type": "markdown",
   "id": "82960d65-38a3-4401-9f21-a25199ce16fb",
   "metadata": {},
   "source": [
    "## Exclusion"
   ]
  },
  {
   "cell_type": "code",
   "execution_count": 30,
   "id": "ce9fc3e1-d07c-4d27-a323-9c98ab983954",
   "metadata": {},
   "outputs": [
    {
     "name": "stdout",
     "output_type": "stream",
     "text": [
      "I am Achyuth and \n"
     ]
    }
   ],
   "source": [
    "txt = 'I am Achyuth and 21'\n",
    "print(''.join(re.findall('\\D',txt)))"
   ]
  },
  {
   "cell_type": "markdown",
   "id": "aba7d933-4752-4fde-a9c0-3d24ec1ecba1",
   "metadata": {},
   "source": [
    "## Finding patterns for links in geeks for geeks"
   ]
  },
  {
   "cell_type": "code",
   "execution_count": 33,
   "id": "6002d3fa-c595-4c03-8b09-e76da3ba2a34",
   "metadata": {},
   "outputs": [],
   "source": [
    "txt = \"Hello I am studing from Geeks-for-Geeks and it is amazing. Let's see how this work-it-out, wekds-sfd-sedsa\""
   ]
  },
  {
   "cell_type": "code",
   "execution_count": 35,
   "id": "45ec6c21-1141-4837-87e1-196a872e6b4c",
   "metadata": {},
   "outputs": [
    {
     "data": {
      "text/plain": [
       "['Geeks-for-Geeks', 'work-it-out', 'wekds-sfd-sedsa']"
      ]
     },
     "execution_count": 35,
     "metadata": {},
     "output_type": "execute_result"
    }
   ],
   "source": [
    "re.findall('[\\w]+-[\\w]+-[\\w]+', txt)"
   ]
  },
  {
   "cell_type": "markdown",
   "id": "a3240394-3787-4cd5-a563-241dd182efc6",
   "metadata": {},
   "source": [
    "## Phone number pattern"
   ]
  },
  {
   "cell_type": "code",
   "execution_count": 38,
   "id": "eec8820f-7073-4622-ae67-759a724586a8",
   "metadata": {},
   "outputs": [
    {
     "name": "stdout",
     "output_type": "stream",
     "text": [
      "6465343\n",
      "54353456\n",
      "45634534\n",
      "5354535\n",
      "4352346\n"
     ]
    }
   ],
   "source": [
    "for no in [\"64-6534-342\", \"543-5345-645\",\"4563-453-445\",\"53-5453-5345\",\"435-234-6324\"]:\n",
    "    \n",
    "    print(str(re.findall('[\\d]+-[\\d]+-[\\d]' , no)[0]).replace('-',''))"
   ]
  },
  {
   "cell_type": "code",
   "execution_count": null,
   "id": "61d27a0e-361d-4d08-9c73-5f0a16ecf1f8",
   "metadata": {},
   "outputs": [],
   "source": []
  }
 ],
 "metadata": {
  "kernelspec": {
   "display_name": "Python 3 (ipykernel)",
   "language": "python",
   "name": "python3"
  },
  "language_info": {
   "codemirror_mode": {
    "name": "ipython",
    "version": 3
   },
   "file_extension": ".py",
   "mimetype": "text/x-python",
   "name": "python",
   "nbconvert_exporter": "python",
   "pygments_lexer": "ipython3",
   "version": "3.11.7"
  }
 },
 "nbformat": 4,
 "nbformat_minor": 5
}
