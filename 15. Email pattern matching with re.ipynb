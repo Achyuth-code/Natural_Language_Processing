{
 "cells": [
  {
   "cell_type": "code",
   "execution_count": 1,
   "id": "548325c9-dc69-4fc2-8e5c-3e0c4a347f3b",
   "metadata": {},
   "outputs": [],
   "source": [
    "import re"
   ]
  },
  {
   "cell_type": "code",
   "execution_count": 3,
   "id": "a65d3108-60b2-472f-a6f9-d3691a36cee1",
   "metadata": {},
   "outputs": [
    {
     "data": {
      "text/plain": [
       "<re.Match object; span=(0, 15), match='achyuth@hkj.com'>"
      ]
     },
     "execution_count": 3,
     "metadata": {},
     "output_type": "execute_result"
    }
   ],
   "source": [
    "mail = 'achyuth@hkj.com'\n",
    "p = '[A-Za-z0-9]+@[\\w]+.[\\w]+'\n",
    "re.search(p, mail)"
   ]
  },
  {
   "cell_type": "code",
   "execution_count": 5,
   "id": "ac771bf5-aef8-4361-9133-de2a67b4aaf1",
   "metadata": {},
   "outputs": [
    {
     "data": {
      "text/plain": [
       "'achyuth@hkj.com'"
      ]
     },
     "execution_count": 5,
     "metadata": {},
     "output_type": "execute_result"
    }
   ],
   "source": [
    "re.search(p, 'achyuth@hkj.com').group()"
   ]
  },
  {
   "cell_type": "code",
   "execution_count": 7,
   "id": "bb0451c4-d236-45af-a03a-40c4fdd7992d",
   "metadata": {},
   "outputs": [
    {
     "data": {
      "text/plain": [
       "'achyu554th@hkj.com'"
      ]
     },
     "execution_count": 7,
     "metadata": {},
     "output_type": "execute_result"
    }
   ],
   "source": [
    "re.search(p, 'achyu554th@hkj.com').group()"
   ]
  },
  {
   "cell_type": "code",
   "execution_count": 9,
   "id": "e880aae0-e8a6-4388-b8dc-f6db3a81cba4",
   "metadata": {},
   "outputs": [
    {
     "data": {
      "text/plain": [
       "'66478@hkj.com'"
      ]
     },
     "execution_count": 9,
     "metadata": {},
     "output_type": "execute_result"
    }
   ],
   "source": [
    "re.search(p, '66478@hkj.com').group()"
   ]
  },
  {
   "cell_type": "code",
   "execution_count": 11,
   "id": "757f3c36-e240-42fa-bac2-6e22ebfcc8a7",
   "metadata": {},
   "outputs": [
    {
     "data": {
      "text/plain": [
       "<re.Match object; span=(0, 15), match='achyuth@hkj.com'>"
      ]
     },
     "execution_count": 11,
     "metadata": {},
     "output_type": "execute_result"
    }
   ],
   "source": [
    "re.search(p, 'achyuth@hkj.com')"
   ]
  },
  {
   "cell_type": "markdown",
   "id": "12f62b2f-7686-48fd-a8e7-ee7554d6865d",
   "metadata": {},
   "source": [
    "## Email with specific domain"
   ]
  },
  {
   "cell_type": "code",
   "execution_count": 14,
   "id": "7bedf193-73b3-4be2-8a61-7566ed07e748",
   "metadata": {},
   "outputs": [
    {
     "data": {
      "text/plain": [
       "<re.Match object; span=(0, 15), match='achyuth@hkj.com'>"
      ]
     },
     "execution_count": 14,
     "metadata": {},
     "output_type": "execute_result"
    }
   ],
   "source": [
    "mail = 'achyuth@hkj.com'\n",
    "p = '[A-Za-z0-9]+@(hkj).(com)$'\n",
    "re.search(p, mail)"
   ]
  },
  {
   "cell_type": "markdown",
   "id": "84d5ed22-776c-425e-8890-cde1b3b64a64",
   "metadata": {},
   "source": [
    "## Email with Multiple Domain"
   ]
  },
  {
   "cell_type": "code",
   "execution_count": 17,
   "id": "a540feb9-87fa-430c-9dba-1ed2ad263e09",
   "metadata": {},
   "outputs": [
    {
     "data": {
      "text/plain": [
       "<re.Match object; span=(0, 15), match='achyuth@hkj.com'>"
      ]
     },
     "execution_count": 17,
     "metadata": {},
     "output_type": "execute_result"
    }
   ],
   "source": [
    "mail = 'achyuth@hkj.com'\n",
    "p = '[A-Za-z0-9]+@[A-Za-z]+.(com|edu|gov|net|in)'\n",
    "re.search(p, mail)"
   ]
  },
  {
   "cell_type": "code",
   "execution_count": null,
   "id": "695fbad2-fea6-44c8-bd37-0f08a119183c",
   "metadata": {},
   "outputs": [],
   "source": []
  }
 ],
 "metadata": {
  "kernelspec": {
   "display_name": "Python 3 (ipykernel)",
   "language": "python",
   "name": "python3"
  },
  "language_info": {
   "codemirror_mode": {
    "name": "ipython",
    "version": 3
   },
   "file_extension": ".py",
   "mimetype": "text/x-python",
   "name": "python",
   "nbconvert_exporter": "python",
   "pygments_lexer": "ipython3",
   "version": "3.11.7"
  }
 },
 "nbformat": 4,
 "nbformat_minor": 5
}
