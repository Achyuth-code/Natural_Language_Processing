{
 "cells": [
  {
   "cell_type": "code",
   "execution_count": 1,
   "id": "1244bd57-719f-44ac-aa52-29f22c47e6c9",
   "metadata": {},
   "outputs": [],
   "source": [
    "txt = 'AI is having the capability to revolutionize all the industries. The Industry is ready for a big change'.lower()\n",
    "\n",
    "word = 'the'.lower()"
   ]
  },
  {
   "cell_type": "code",
   "execution_count": 3,
   "id": "d53069a4-1f96-47d4-8df1-dfb79c7f96ab",
   "metadata": {},
   "outputs": [
    {
     "name": "stdout",
     "output_type": "stream",
     "text": [
      "13 16\n",
      "49 52\n",
      "65 68\n"
     ]
    }
   ],
   "source": [
    "for i in range(len(txt)):\n",
    "    if(txt[i:i+len(word)] == word):\n",
    "        print(i,i+len(word))"
   ]
  },
  {
   "cell_type": "markdown",
   "id": "63cd8026-e043-4e07-b717-f1c891806c9b",
   "metadata": {},
   "source": [
    "## Starting with specific Characters"
   ]
  },
  {
   "cell_type": "code",
   "execution_count": 6,
   "id": "4ee718cf-0ba5-4229-8022-352c35921757",
   "metadata": {},
   "outputs": [
    {
     "name": "stdout",
     "output_type": "stream",
     "text": [
      "industries.\n",
      "Industry\n"
     ]
    }
   ],
   "source": [
    "txt = 'AI is having the capability to revolutionize all the industries. The Industry is ready for a big change'\n",
    "word = 'in'\n",
    "\n",
    "for wrd in txt.split(' '):\n",
    "    if (wrd[:2].lower() == word.lower()):\n",
    "        print(wrd)"
   ]
  },
  {
   "cell_type": "markdown",
   "id": "e53127f4-6c62-4e96-9896-a4f26a1fba9d",
   "metadata": {},
   "source": [
    "## Ending with specific Characters"
   ]
  },
  {
   "cell_type": "code",
   "execution_count": 9,
   "id": "04b409e9-4927-4271-ba6b-d83a0f04a858",
   "metadata": {},
   "outputs": [
    {
     "name": "stdout",
     "output_type": "stream",
     "text": [
      "the\n",
      "the\n",
      "The\n"
     ]
    }
   ],
   "source": [
    "txt = 'AI is having the capability to revolutionize all the industries. The Industry is ready for a big change'\n",
    "word = 'he'\n",
    "for wrd in txt.split(' '):\n",
    "    if(wrd[-2:].lower() == word.lower()):\n",
    "        print(wrd)"
   ]
  },
  {
   "cell_type": "code",
   "execution_count": 11,
   "id": "e21b6e9f-78a1-4335-82a6-7b0ad497d030",
   "metadata": {},
   "outputs": [
    {
     "name": "stdout",
     "output_type": "stream",
     "text": [
      "AI is\n",
      "is having\n",
      "having the\n",
      "the capability\n",
      "capability to\n",
      "to revolutionize\n",
      "revolutionize all\n",
      "all the\n",
      "the industries.\n",
      "industries. The\n",
      "The Industry\n",
      "Industry is\n",
      "is ready\n",
      "ready for\n",
      "for a\n",
      "a big\n",
      "big change\n"
     ]
    }
   ],
   "source": [
    "txt = 'AI is having the capability to revolutionize all the industries. The Industry is ready for a big change'\n",
    "for i in range(len(txt.split(' '))-1):\n",
    "    print(txt.split(' ')[i], txt.split(' ')[i + 1])"
   ]
  },
  {
   "cell_type": "code",
   "execution_count": null,
   "id": "d0b5c997-e9e1-40c0-9cc8-c45264cf0401",
   "metadata": {},
   "outputs": [],
   "source": []
  }
 ],
 "metadata": {
  "kernelspec": {
   "display_name": "Python 3 (ipykernel)",
   "language": "python",
   "name": "python3"
  },
  "language_info": {
   "codemirror_mode": {
    "name": "ipython",
    "version": 3
   },
   "file_extension": ".py",
   "mimetype": "text/x-python",
   "name": "python",
   "nbconvert_exporter": "python",
   "pygments_lexer": "ipython3",
   "version": "3.11.7"
  }
 },
 "nbformat": 4,
 "nbformat_minor": 5
}
