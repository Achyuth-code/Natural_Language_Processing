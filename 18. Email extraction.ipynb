{
 "cells": [
  {
   "cell_type": "code",
   "execution_count": 3,
   "id": "0238a46f-1555-440c-bf80-168865cc2305",
   "metadata": {},
   "outputs": [],
   "source": [
    "mails = ['achyuth@gmail.com','achyuth@geeksforgeeks.org',\n",
    "         'achyuth@orkut.com','achyuth@yahoo.com',\n",
    "         'achyuth.kumar@geeksforgeeks.org','achyuth@gfg.co.in',\n",
    "         'achyuth@aap.gov.in','aj@gmail.co.org.in']"
   ]
  },
  {
   "cell_type": "code",
   "execution_count": 5,
   "id": "58ee926f-56f0-4fed-8663-c5d070f389bf",
   "metadata": {},
   "outputs": [],
   "source": [
    "user_id = []\n",
    "host_name = []\n",
    "domain_type = []\n",
    "\n",
    "for mail in mails:\n",
    "    user_id.append(mail.split('@')[0])\n",
    "    host_name.append(mail.split('@')[1].split('.')[0])\n",
    "    domain_type.append('.'.join(mail.split('@')[1].split('.')[1:]))"
   ]
  },
  {
   "cell_type": "code",
   "execution_count": 7,
   "id": "e68c8727-5806-4a38-b3fc-b93976e4ea1f",
   "metadata": {},
   "outputs": [
    {
     "data": {
      "text/plain": [
       "['achyuth',\n",
       " 'achyuth',\n",
       " 'achyuth',\n",
       " 'achyuth',\n",
       " 'achyuth.kumar',\n",
       " 'achyuth',\n",
       " 'achyuth',\n",
       " 'aj']"
      ]
     },
     "execution_count": 7,
     "metadata": {},
     "output_type": "execute_result"
    }
   ],
   "source": [
    "user_id"
   ]
  },
  {
   "cell_type": "code",
   "execution_count": 9,
   "id": "86bbbc8f-4d35-4647-a594-1e42773ef258",
   "metadata": {},
   "outputs": [
    {
     "data": {
      "text/plain": [
       "['gmail',\n",
       " 'geeksforgeeks',\n",
       " 'orkut',\n",
       " 'yahoo',\n",
       " 'geeksforgeeks',\n",
       " 'gfg',\n",
       " 'aap',\n",
       " 'gmail']"
      ]
     },
     "execution_count": 9,
     "metadata": {},
     "output_type": "execute_result"
    }
   ],
   "source": [
    "host_name"
   ]
  },
  {
   "cell_type": "code",
   "execution_count": 11,
   "id": "7c2a0ffb-6ddb-4b6c-befc-0fa9fc521a25",
   "metadata": {},
   "outputs": [
    {
     "data": {
      "text/plain": [
       "['com', 'org', 'com', 'com', 'org', 'co.in', 'gov.in', 'co.org.in']"
      ]
     },
     "execution_count": 11,
     "metadata": {},
     "output_type": "execute_result"
    }
   ],
   "source": [
    "domain_type"
   ]
  },
  {
   "cell_type": "code",
   "execution_count": null,
   "id": "19016d60-a1be-4b66-b43b-c6814a76207e",
   "metadata": {},
   "outputs": [],
   "source": []
  }
 ],
 "metadata": {
  "kernelspec": {
   "display_name": "Python 3 (ipykernel)",
   "language": "python",
   "name": "python3"
  },
  "language_info": {
   "codemirror_mode": {
    "name": "ipython",
    "version": 3
   },
   "file_extension": ".py",
   "mimetype": "text/x-python",
   "name": "python",
   "nbconvert_exporter": "python",
   "pygments_lexer": "ipython3",
   "version": "3.11.7"
  }
 },
 "nbformat": 4,
 "nbformat_minor": 5
}
