{
 "cells": [
  {
   "cell_type": "code",
   "execution_count": 18,
   "id": "e42d8806-2531-458d-a0fa-8adaace89031",
   "metadata": {},
   "outputs": [],
   "source": [
    "import re\n",
    "from tqdm import tqdm"
   ]
  },
  {
   "cell_type": "markdown",
   "id": "f077a13c-848a-4f69-a7e4-99319d7d6a62",
   "metadata": {},
   "source": [
    "## Unique words"
   ]
  },
  {
   "cell_type": "code",
   "execution_count": 20,
   "id": "50d7bc8f-6a87-4761-be0d-6317d18c10a0",
   "metadata": {},
   "outputs": [
    {
     "name": "stdout",
     "output_type": "stream",
     "text": [
      "1115585\n",
      "32198\n"
     ]
    }
   ],
   "source": [
    "with open('big.txt','r') as fd:\n",
    "    lines = fd.readlines()\n",
    "    words = []\n",
    "    for line in lines:\n",
    "        words += re.findall('\\w+',line.lower())\n",
    "        \n",
    "print(len(words))\n",
    "vocab = list(set(words))\n",
    "print(len(vocab))"
   ]
  },
  {
   "cell_type": "markdown",
   "id": "7c767390-5a44-45ce-86e2-3fb15cc9c380",
   "metadata": {},
   "source": [
    "## Probability Distribution"
   ]
  },
  {
   "cell_type": "code",
   "execution_count": 17,
   "id": "f84ce3d2-5e3e-49d8-8fd8-df187c382c21",
   "metadata": {},
   "outputs": [
    {
     "name": "stderr",
     "output_type": "stream",
     "text": [
      "100%|████████████████████████████████████████████████████████████████████████████| 32198/32198 [24:39<00:00, 21.76it/s]\n"
     ]
    }
   ],
   "source": [
    "word_probability = {}\n",
    "for word in tqdm(vocab):\n",
    "    word_probability[word] = float(words.count(word)/len(words))"
   ]
  },
  {
   "cell_type": "markdown",
   "id": "07e8846f-f082-4ceb-99b6-747d68b97090",
   "metadata": {},
   "source": [
    "## Text Processing\n",
    "splittng"
   ]
  },
  {
   "cell_type": "code",
   "execution_count": 25,
   "id": "1d431bc2-fb13-4799-b8bb-69947aebc48d",
   "metadata": {},
   "outputs": [],
   "source": [
    "def split(word):  \n",
    "    parts = []\n",
    "    for i in range(len(word) + 1):\n",
    "        parts += [(word[ : i], word[i : ])]\n",
    "    return parts"
   ]
  },
  {
   "cell_type": "markdown",
   "id": "bbfcc7b0-c8d8-4282-9e0a-241b17f47bee",
   "metadata": {},
   "source": [
    "#### Swapping"
   ]
  },
  {
   "cell_type": "code",
   "execution_count": 28,
   "id": "95d52b32-6567-4d0f-8830-9b917c0c17e4",
   "metadata": {},
   "outputs": [
    {
     "data": {
      "text/plain": [
       "['vloe', 'love', 'lveo']"
      ]
     },
     "execution_count": 28,
     "metadata": {},
     "output_type": "execute_result"
    }
   ],
   "source": [
    "def swap(word):    \n",
    "    output = []    \n",
    "    for l,r in split(word):\n",
    "        if (len(r) > 1):\n",
    "            output.append(l + r[1] + r[0] + r[2:])\n",
    "    return output\n",
    "            \n",
    "swap('lvoe')"
   ]
  },
  {
   "cell_type": "markdown",
   "id": "190a2cf9-6580-4d61-81d6-3c8f8b296994",
   "metadata": {},
   "source": [
    "#### Replace"
   ]
  },
  {
   "cell_type": "code",
   "execution_count": 31,
   "id": "2cbcdc07-1bc9-43df-9cd5-d4aa1f185170",
   "metadata": {},
   "outputs": [
    {
     "data": {
      "text/plain": [
       "130"
      ]
     },
     "execution_count": 31,
     "metadata": {},
     "output_type": "execute_result"
    }
   ],
   "source": [
    "def replace(word):\n",
    "    \n",
    "    characters = 'abcdefghijklmnopqrstuvwxyz'\n",
    "    output = []    \n",
    "\n",
    "    for l,r in split(word):\n",
    "        for char in characters:\n",
    "            output.append(l + char +  r[1:])\n",
    "    return output\n",
    "\n",
    "len(replace('lave'))"
   ]
  },
  {
   "cell_type": "markdown",
   "id": "c5e08260-d346-4943-902d-66b9b32ea5c0",
   "metadata": {},
   "source": [
    "#### Insert"
   ]
  },
  {
   "cell_type": "code",
   "execution_count": 34,
   "id": "b5da2a48-0901-4030-930c-b845ac2d3966",
   "metadata": {},
   "outputs": [
    {
     "data": {
      "text/plain": [
       "104"
      ]
     },
     "execution_count": 34,
     "metadata": {},
     "output_type": "execute_result"
    }
   ],
   "source": [
    "def insert(word):\n",
    "\n",
    "    characters = 'abcdefghijklmnopqrstuvwxyz'\n",
    "    output = []\n",
    "\n",
    "    for l,r in split(word):\n",
    "        for char in characters:\n",
    "            output.append(l + char + r)\n",
    "\n",
    "    return output\n",
    "\n",
    "len(insert('lve'))"
   ]
  },
  {
   "cell_type": "code",
   "execution_count": null,
   "id": "6aca0aef-46e8-4000-a8a9-689fc4e8144e",
   "metadata": {},
   "outputs": [],
   "source": []
  }
 ],
 "metadata": {
  "kernelspec": {
   "display_name": "Python 3 (ipykernel)",
   "language": "python",
   "name": "python3"
  },
  "language_info": {
   "codemirror_mode": {
    "name": "ipython",
    "version": 3
   },
   "file_extension": ".py",
   "mimetype": "text/x-python",
   "name": "python",
   "nbconvert_exporter": "python",
   "pygments_lexer": "ipython3",
   "version": "3.11.7"
  }
 },
 "nbformat": 4,
 "nbformat_minor": 5
}
