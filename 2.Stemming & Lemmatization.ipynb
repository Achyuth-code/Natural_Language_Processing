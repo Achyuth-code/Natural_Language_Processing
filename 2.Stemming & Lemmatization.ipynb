{
 "cells": [
  {
   "cell_type": "code",
   "execution_count": 5,
   "id": "6e181843-2455-432a-b74f-ab5df80547b4",
   "metadata": {},
   "outputs": [
    {
     "name": "stderr",
     "output_type": "stream",
     "text": [
      "[nltk_data] Downloading package wordnet to\n",
      "[nltk_data]     C:\\Users\\achyu\\AppData\\Roaming\\nltk_data...\n",
      "[nltk_data]   Package wordnet is already up-to-date!\n",
      "[nltk_data] Downloading package omw-1.4 to\n",
      "[nltk_data]     C:\\Users\\achyu\\AppData\\Roaming\\nltk_data...\n",
      "[nltk_data]   Package omw-1.4 is already up-to-date!\n"
     ]
    }
   ],
   "source": [
    "import nltk\n",
    "nltk.download('wordnet')\n",
    "nltk.download('omw-1.4')\n",
    "from nltk.stem import WordNetLemmatizer, PorterStemmer"
   ]
  },
  {
   "cell_type": "code",
   "execution_count": 7,
   "id": "1a0e91ab-6a50-4ff5-8f9d-c17d6764e87e",
   "metadata": {},
   "outputs": [],
   "source": [
    "stem = PorterStemmer()\n",
    "lam = WordNetLemmatizer()"
   ]
  },
  {
   "cell_type": "markdown",
   "id": "24c6b767-b2ea-4bfb-bc2c-7875081d6108",
   "metadata": {},
   "source": [
    "## Stemming"
   ]
  },
  {
   "cell_type": "code",
   "execution_count": 10,
   "id": "3a4b1c56-cd6c-4e85-8799-33d09b61c354",
   "metadata": {},
   "outputs": [
    {
     "name": "stdout",
     "output_type": "stream",
     "text": [
      "chang\n",
      "chang\n",
      "chang\n"
     ]
    }
   ],
   "source": [
    "print(stem.stem('Changes'))\n",
    "print(stem.stem('Changed'))\n",
    "print(stem.stem('Changing'))"
   ]
  },
  {
   "cell_type": "markdown",
   "id": "7347d9f7-749a-4a36-87ce-9dea44fad70d",
   "metadata": {},
   "source": [
    "## Lemmatization"
   ]
  },
  {
   "cell_type": "code",
   "execution_count": 16,
   "id": "f998a07e-8d65-44a1-97ae-8f0c446cadd3",
   "metadata": {},
   "outputs": [
    {
     "name": "stdout",
     "output_type": "stream",
     "text": [
      "Changes\n",
      "Changer\n",
      "Changed\n",
      "Changing\n",
      "Change\n"
     ]
    }
   ],
   "source": [
    "print(lam.lemmatize('Changes'))\n",
    "print(lam.lemmatize('Changer'))\n",
    "print(lam.lemmatize('Changed'))\n",
    "print(lam.lemmatize('Changing'))\n",
    "print(lam.lemmatize('Change'))"
   ]
  },
  {
   "cell_type": "code",
   "execution_count": null,
   "id": "2403d6ae-6b3a-476a-b955-d76a0dab18ca",
   "metadata": {},
   "outputs": [],
   "source": []
  }
 ],
 "metadata": {
  "kernelspec": {
   "display_name": "Python 3 (ipykernel)",
   "language": "python",
   "name": "python3"
  },
  "language_info": {
   "codemirror_mode": {
    "name": "ipython",
    "version": 3
   },
   "file_extension": ".py",
   "mimetype": "text/x-python",
   "name": "python",
   "nbconvert_exporter": "python",
   "pygments_lexer": "ipython3",
   "version": "3.11.7"
  }
 },
 "nbformat": 4,
 "nbformat_minor": 5
}
