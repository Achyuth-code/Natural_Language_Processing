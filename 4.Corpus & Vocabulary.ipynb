{
 "cells": [
  {
   "cell_type": "code",
   "execution_count": 1,
   "id": "c0a08489-99da-4f37-8454-c9fa8df2de05",
   "metadata": {},
   "outputs": [
    {
     "data": {
      "text/plain": [
       "'India, officially the Republic of India, is a country in South Asia. It is the seventh-largest country by area, the second-most populous country, and the most populous democracy in the world. Bounded by the Indian Ocean on the south, the Arabian Sea on the southwest, and the Bay of Bengal on the southeast, it shares land borders with Pakistan to the west; China, Nepal, and Bhutan to the north; and Bangladesh and Myanmar to the east. In the Indian Ocean, India is in the vicinity of Sri Lanka and the Maldives; its Andaman and Nicobar Islands share a maritime border with Thailand, Myanmar and Indonesia.'"
      ]
     },
     "execution_count": 1,
     "metadata": {},
     "output_type": "execute_result"
    }
   ],
   "source": [
    "import nltk\n",
    "from nltk.tokenize import word_tokenize, sent_tokenize\n",
    "from nltk.corpus import stopwords\n",
    "\n",
    "corpus = 'India, officially the Republic of India, is a country in South Asia. It is the seventh-largest country by area, the second-most populous country, and the most populous democracy in the world. Bounded by the Indian Ocean on the south, the Arabian Sea on the southwest, and the Bay of Bengal on the southeast, it shares land borders with Pakistan to the west; China, Nepal, and Bhutan to the north; and Bangladesh and Myanmar to the east. In the Indian Ocean, India is in the vicinity of Sri Lanka and the Maldives; its Andaman and Nicobar Islands share a maritime border with Thailand, Myanmar and Indonesia.'\n",
    "corpus"
   ]
  },
  {
   "cell_type": "markdown",
   "id": "11585e4f-a390-4771-87ba-57959e40de3f",
   "metadata": {},
   "source": [
    "## Stop Word Removal"
   ]
  },
  {
   "cell_type": "code",
   "execution_count": 12,
   "id": "2f0af0d0-90c9-4966-85ae-1f1871ca7d36",
   "metadata": {},
   "outputs": [
    {
     "name": "stdout",
     "output_type": "stream",
     "text": [
      "India\n",
      "officially\n",
      "Republic\n",
      "India\n",
      "country\n",
      "South\n",
      "Asia\n",
      "seventh-largest\n",
      "country\n",
      "area\n",
      "second-most\n",
      "populous\n",
      "country\n",
      "populous\n",
      "democracy\n",
      "world\n",
      "Bounded\n",
      "Indian\n",
      "Ocean\n",
      "south\n",
      "Arabian\n",
      "Sea\n",
      "southwest\n",
      "Bay\n",
      "Bengal\n",
      "southeast\n",
      "shares\n",
      "land\n",
      "borders\n",
      "Pakistan\n",
      "west\n",
      "China\n",
      "Nepal\n",
      "Bhutan\n",
      "north\n",
      "Bangladesh\n",
      "Myanmar\n",
      "east\n",
      "Indian\n",
      "Ocean\n",
      "India\n",
      "vicinity\n",
      "Sri\n",
      "Lanka\n",
      "Maldives\n",
      "Andaman\n",
      "Nicobar\n",
      "Islands\n",
      "share\n",
      "maritime\n",
      "border\n",
      "Thailand\n",
      "Myanmar\n",
      "Indonesia\n"
     ]
    }
   ],
   "source": [
    "words = []\n",
    "for word in word_tokenize(corpus):\n",
    "    if((word.lower() not in stopwords.words('english') and len(word) >= 2)):\n",
    "        words.append(word.lower())\n",
    "        print(word)"
   ]
  },
  {
   "cell_type": "code",
   "execution_count": 14,
   "id": "b3a5db49-e780-4a05-82f3-c731f2b3e277",
   "metadata": {},
   "outputs": [],
   "source": [
    "vocab = list(set(words))"
   ]
  },
  {
   "cell_type": "code",
   "execution_count": 16,
   "id": "88469c8d-396a-4a94-ad01-a3128b42d0a4",
   "metadata": {},
   "outputs": [
    {
     "data": {
      "text/plain": [
       "['second-most',\n",
       " 'democracy',\n",
       " 'lanka',\n",
       " 'sea',\n",
       " 'indonesia',\n",
       " 'land',\n",
       " 'west',\n",
       " 'southeast',\n",
       " 'andaman',\n",
       " 'bhutan',\n",
       " 'world',\n",
       " 'republic',\n",
       " 'indian',\n",
       " 'nicobar',\n",
       " 'south',\n",
       " 'asia',\n",
       " 'shares',\n",
       " 'populous',\n",
       " 'bay',\n",
       " 'myanmar',\n",
       " 'islands',\n",
       " 'arabian',\n",
       " 'seventh-largest',\n",
       " 'sri',\n",
       " 'nepal',\n",
       " 'bengal',\n",
       " 'maldives',\n",
       " 'officially',\n",
       " 'thailand',\n",
       " 'border',\n",
       " 'vicinity',\n",
       " 'area',\n",
       " 'north',\n",
       " 'borders',\n",
       " 'country',\n",
       " 'india',\n",
       " 'ocean',\n",
       " 'share',\n",
       " 'maritime',\n",
       " 'bangladesh',\n",
       " 'bounded',\n",
       " 'southwest',\n",
       " 'china',\n",
       " 'pakistan',\n",
       " 'east']"
      ]
     },
     "execution_count": 16,
     "metadata": {},
     "output_type": "execute_result"
    }
   ],
   "source": [
    "vocab"
   ]
  },
  {
   "cell_type": "code",
   "execution_count": 18,
   "id": "0cb4f12e-73ca-450c-a8db-edbefdb0009f",
   "metadata": {},
   "outputs": [
    {
     "name": "stdout",
     "output_type": "stream",
     "text": [
      "India, officially the Republic of India, is a country in South Asia.\n",
      "It is the seventh-largest country by area, the second-most populous country, and the most populous democracy in the world.\n",
      "Bounded by the Indian Ocean on the south, the Arabian Sea on the southwest, and the Bay of Bengal on the southeast, it shares land borders with Pakistan to the west; China, Nepal, and Bhutan to the north; and Bangladesh and Myanmar to the east.\n",
      "In the Indian Ocean, India is in the vicinity of Sri Lanka and the Maldives; its Andaman and Nicobar Islands share a maritime border with Thailand, Myanmar and Indonesia.\n"
     ]
    }
   ],
   "source": [
    "for sent in sent_tokenize(corpus):\n",
    "    print(sent)"
   ]
  },
  {
   "cell_type": "code",
   "execution_count": null,
   "id": "0cfd0061-b621-41da-902b-1ca12228307f",
   "metadata": {},
   "outputs": [],
   "source": []
  }
 ],
 "metadata": {
  "kernelspec": {
   "display_name": "Python 3 (ipykernel)",
   "language": "python",
   "name": "python3"
  },
  "language_info": {
   "codemirror_mode": {
    "name": "ipython",
    "version": 3
   },
   "file_extension": ".py",
   "mimetype": "text/x-python",
   "name": "python",
   "nbconvert_exporter": "python",
   "pygments_lexer": "ipython3",
   "version": "3.11.7"
  }
 },
 "nbformat": 4,
 "nbformat_minor": 5
}
