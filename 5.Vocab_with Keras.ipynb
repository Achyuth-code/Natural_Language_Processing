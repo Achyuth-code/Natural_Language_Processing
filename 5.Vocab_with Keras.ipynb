{
 "cells": [
  {
   "cell_type": "code",
   "execution_count": 1,
   "id": "57ffd6af-42de-422b-b573-5bd652033004",
   "metadata": {},
   "outputs": [],
   "source": [
    "from tensorflow.keras.preprocessing.text import Tokenizer\n",
    "tok = Tokenizer()"
   ]
  },
  {
   "cell_type": "code",
   "execution_count": 3,
   "id": "2e32ab80-c05d-4c1f-9ea2-3742c7d280fe",
   "metadata": {},
   "outputs": [],
   "source": [
    "corp = ['Good to see you all guys in the library']\n",
    "tok.fit_on_texts(corp)"
   ]
  },
  {
   "cell_type": "code",
   "execution_count": 5,
   "id": "5e726e89-63be-4529-b17e-84806c741f0d",
   "metadata": {},
   "outputs": [
    {
     "data": {
      "text/plain": [
       "{'good': 1,\n",
       " 'to': 2,\n",
       " 'see': 3,\n",
       " 'you': 4,\n",
       " 'all': 5,\n",
       " 'guys': 6,\n",
       " 'in': 7,\n",
       " 'the': 8,\n",
       " 'library': 9}"
      ]
     },
     "execution_count": 5,
     "metadata": {},
     "output_type": "execute_result"
    }
   ],
   "source": [
    "tok.word_index"
   ]
  },
  {
   "cell_type": "code",
   "execution_count": 11,
   "id": "5c90f369-99af-49b7-a1d2-ca996a6c608e",
   "metadata": {},
   "outputs": [
    {
     "data": {
      "text/plain": [
       "[[], []]"
      ]
     },
     "execution_count": 11,
     "metadata": {},
     "output_type": "execute_result"
    }
   ],
   "source": [
    "tok.texts_to_sequences(['world is beautiful',' Nature sets its beauty'])"
   ]
  },
  {
   "cell_type": "markdown",
   "id": "2d04e340-1fc2-4f3d-92c3-6f05d2027a2b",
   "metadata": {},
   "source": [
    "## Adding OVV"
   ]
  },
  {
   "cell_type": "code",
   "execution_count": 16,
   "id": "8d94edf4-ad57-430d-bcfa-ada45238a15c",
   "metadata": {},
   "outputs": [
    {
     "name": "stdout",
     "output_type": "stream",
     "text": [
      "{'black': 1, 'is': 2, 'coffee': 3, 'hot': 4, 'water': 5, 'cold': 6}\n"
     ]
    },
    {
     "data": {
      "text/plain": [
       "[[5, 2, 4], [1, 3, 2, 6]]"
      ]
     },
     "execution_count": 16,
     "metadata": {},
     "output_type": "execute_result"
    }
   ],
   "source": [
    "\n",
    "from tensorflow.keras.preprocessing.text import Tokenizer\n",
    "\n",
    "tok = Tokenizer(oov_token = 'black')\n",
    "\n",
    "corp = ['coffee is hot','water is cold']\n",
    "tok.fit_on_texts(corp)\n",
    "print(tok.word_index)\n",
    "\n",
    "tok.texts_to_sequences(['water is hot','black coffee is cold'])"
   ]
  },
  {
   "cell_type": "markdown",
   "id": "4f487bbd-b892-4b22-ad6d-b7ced621435c",
   "metadata": {},
   "source": [
    "## Limiting Number of words"
   ]
  },
  {
   "cell_type": "code",
   "execution_count": 19,
   "id": "ef20b067-107e-4968-8f9e-10a8aacdfdb9",
   "metadata": {},
   "outputs": [
    {
     "name": "stdout",
     "output_type": "stream",
     "text": [
      "{'is': 1, 'coffee': 2, 'hot': 3, 'water': 4, 'cold': 5}\n"
     ]
    },
    {
     "data": {
      "text/plain": [
       "[[4, 1, 3], [2, 1, 5]]"
      ]
     },
     "execution_count": 19,
     "metadata": {},
     "output_type": "execute_result"
    }
   ],
   "source": [
    "\n",
    "from tensorflow.keras.preprocessing.text import Tokenizer\n",
    "\n",
    "tok = Tokenizer(num_words = 6)\n",
    "\n",
    "corp = ['coffee is hot','water is cold']\n",
    "tok.fit_on_texts(corp)\n",
    "print(tok.word_index)\n",
    "\n",
    "tok.texts_to_sequences(['water is hot','black coffee is cold'])"
   ]
  },
  {
   "cell_type": "code",
   "execution_count": null,
   "id": "24f3711b-04ad-44fb-bd91-56f66f9bed7d",
   "metadata": {},
   "outputs": [],
   "source": []
  }
 ],
 "metadata": {
  "kernelspec": {
   "display_name": "Python 3 (ipykernel)",
   "language": "python",
   "name": "python3"
  },
  "language_info": {
   "codemirror_mode": {
    "name": "ipython",
    "version": 3
   },
   "file_extension": ".py",
   "mimetype": "text/x-python",
   "name": "python",
   "nbconvert_exporter": "python",
   "pygments_lexer": "ipython3",
   "version": "3.11.7"
  }
 },
 "nbformat": 4,
 "nbformat_minor": 5
}
