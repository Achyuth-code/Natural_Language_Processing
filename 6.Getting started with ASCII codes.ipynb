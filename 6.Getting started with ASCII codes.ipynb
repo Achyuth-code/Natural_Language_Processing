{
 "cells": [
  {
   "cell_type": "code",
   "execution_count": 1,
   "id": "d9e6b159-2d4f-4f4e-83af-c849297d4dd4",
   "metadata": {},
   "outputs": [],
   "source": [
    "name = 'Achyuth Kumar'"
   ]
  },
  {
   "cell_type": "code",
   "execution_count": 3,
   "id": "6ca0718b-db51-430b-bd28-a41d8eef71f6",
   "metadata": {},
   "outputs": [
    {
     "name": "stdout",
     "output_type": "stream",
     "text": [
      "A\n"
     ]
    }
   ],
   "source": [
    "print('A')"
   ]
  },
  {
   "cell_type": "code",
   "execution_count": 7,
   "id": "affaf110-e944-4711-b8be-48a47eb8a395",
   "metadata": {},
   "outputs": [
    {
     "data": {
      "text/plain": [
       "65"
      ]
     },
     "execution_count": 7,
     "metadata": {},
     "output_type": "execute_result"
    }
   ],
   "source": [
    "ord('A')"
   ]
  },
  {
   "cell_type": "code",
   "execution_count": 9,
   "id": "d2cacd76-ec11-4f5b-89b7-e4491f4df377",
   "metadata": {},
   "outputs": [
    {
     "data": {
      "text/plain": [
       "104"
      ]
     },
     "execution_count": 9,
     "metadata": {},
     "output_type": "execute_result"
    }
   ],
   "source": [
    "ord('h')"
   ]
  },
  {
   "cell_type": "code",
   "execution_count": 11,
   "id": "944d52fc-bb17-4f9d-b138-35edfde8479c",
   "metadata": {},
   "outputs": [
    {
     "data": {
      "text/plain": [
       "75"
      ]
     },
     "execution_count": 11,
     "metadata": {},
     "output_type": "execute_result"
    }
   ],
   "source": [
    "ord('K')"
   ]
  },
  {
   "cell_type": "code",
   "execution_count": 15,
   "id": "c20bd2f9-20d6-4a16-963c-ff3973c7ff9c",
   "metadata": {},
   "outputs": [
    {
     "name": "stdout",
     "output_type": "stream",
     "text": [
      "['A', 'c', 'h', 'y', 'u', 't', 'h', ' ', 'K', 'u', 'm', 'a', 'r']\n",
      "[65, 99, 104, 121, 117, 116, 104, 32, 75, 117, 109, 97, 114]\n"
     ]
    }
   ],
   "source": [
    "print([char for char in name])\n",
    "print([ord(char) for char in name])"
   ]
  },
  {
   "cell_type": "code",
   "execution_count": null,
   "id": "871d8c95-0ff8-48ea-bea5-3baddd7042d6",
   "metadata": {},
   "outputs": [],
   "source": []
  }
 ],
 "metadata": {
  "kernelspec": {
   "display_name": "Python 3 (ipykernel)",
   "language": "python",
   "name": "python3"
  },
  "language_info": {
   "codemirror_mode": {
    "name": "ipython",
    "version": 3
   },
   "file_extension": ".py",
   "mimetype": "text/x-python",
   "name": "python",
   "nbconvert_exporter": "python",
   "pygments_lexer": "ipython3",
   "version": "3.11.7"
  }
 },
 "nbformat": 4,
 "nbformat_minor": 5
}
