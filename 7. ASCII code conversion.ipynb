{
 "cells": [
  {
   "cell_type": "code",
   "execution_count": 3,
   "id": "40ca5918-232e-4699-bb78-8bcaf0a25427",
   "metadata": {},
   "outputs": [],
   "source": [
    "text = 'The boy is enjoying the sunrise in beach'"
   ]
  },
  {
   "cell_type": "markdown",
   "id": "6cc82aa1-e60b-4808-b6ec-79061fb680ba",
   "metadata": {},
   "source": [
    "## String to ASCII code conversion"
   ]
  },
  {
   "cell_type": "code",
   "execution_count": 6,
   "id": "2ad40856-49cd-4ce9-9cae-e5184fc9c3db",
   "metadata": {},
   "outputs": [],
   "source": [
    "ascii_ = [ord(char) for char in text]"
   ]
  },
  {
   "cell_type": "code",
   "execution_count": 8,
   "id": "857e6baa-2c32-4796-a682-03ef0f5abc62",
   "metadata": {},
   "outputs": [
    {
     "data": {
      "text/plain": [
       "[84,\n",
       " 104,\n",
       " 101,\n",
       " 32,\n",
       " 98,\n",
       " 111,\n",
       " 121,\n",
       " 32,\n",
       " 105,\n",
       " 115,\n",
       " 32,\n",
       " 101,\n",
       " 110,\n",
       " 106,\n",
       " 111,\n",
       " 121,\n",
       " 105,\n",
       " 110,\n",
       " 103,\n",
       " 32,\n",
       " 116,\n",
       " 104,\n",
       " 101,\n",
       " 32,\n",
       " 115,\n",
       " 117,\n",
       " 110,\n",
       " 114,\n",
       " 105,\n",
       " 115,\n",
       " 101,\n",
       " 32,\n",
       " 105,\n",
       " 110,\n",
       " 32,\n",
       " 98,\n",
       " 101,\n",
       " 97,\n",
       " 99,\n",
       " 104]"
      ]
     },
     "execution_count": 8,
     "metadata": {},
     "output_type": "execute_result"
    }
   ],
   "source": [
    "ascii_"
   ]
  },
  {
   "cell_type": "markdown",
   "id": "1fcf12d7-da91-4ba0-8887-4745df3249c0",
   "metadata": {},
   "source": [
    "## ASCII to string conversion"
   ]
  },
  {
   "cell_type": "code",
   "execution_count": 11,
   "id": "55aead34-d36d-49bc-9860-19bd81c3641b",
   "metadata": {},
   "outputs": [
    {
     "data": {
      "text/plain": [
       "'The boy is enjoying the sunrise in beach'"
      ]
     },
     "execution_count": 11,
     "metadata": {},
     "output_type": "execute_result"
    }
   ],
   "source": [
    "''.join([chr(asc) for asc in ascii_])"
   ]
  },
  {
   "cell_type": "code",
   "execution_count": 15,
   "id": "df902a8c-dfe5-4b85-969b-870a62b5ac94",
   "metadata": {},
   "outputs": [
    {
     "data": {
      "text/plain": [
       "32"
      ]
     },
     "execution_count": 15,
     "metadata": {},
     "output_type": "execute_result"
    }
   ],
   "source": [
    "ord(' ')"
   ]
  },
  {
   "cell_type": "code",
   "execution_count": 19,
   "id": "57215281-374e-463a-9292-80b8b01a00c4",
   "metadata": {},
   "outputs": [
    {
     "data": {
      "text/plain": [
       "' '"
      ]
     },
     "execution_count": 19,
     "metadata": {},
     "output_type": "execute_result"
    }
   ],
   "source": [
    "chr(32)"
   ]
  },
  {
   "cell_type": "code",
   "execution_count": 21,
   "id": "383d0241-aca4-4c03-88b1-638043fc495d",
   "metadata": {},
   "outputs": [
    {
     "data": {
      "text/plain": [
       "'hcaeb ni esirnus eht gniyojne si yob ehT'"
      ]
     },
     "execution_count": 21,
     "metadata": {},
     "output_type": "execute_result"
    }
   ],
   "source": [
    "'The boy is enjoying the sunrise in beach'[::-1]"
   ]
  },
  {
   "cell_type": "code",
   "execution_count": null,
   "id": "564c9f8d-41c6-4bf0-8731-ef85b8a67793",
   "metadata": {},
   "outputs": [],
   "source": []
  }
 ],
 "metadata": {
  "kernelspec": {
   "display_name": "Python 3 (ipykernel)",
   "language": "python",
   "name": "python3"
  },
  "language_info": {
   "codemirror_mode": {
    "name": "ipython",
    "version": 3
   },
   "file_extension": ".py",
   "mimetype": "text/x-python",
   "name": "python",
   "nbconvert_exporter": "python",
   "pygments_lexer": "ipython3",
   "version": "3.11.7"
  }
 },
 "nbformat": 4,
 "nbformat_minor": 5
}
