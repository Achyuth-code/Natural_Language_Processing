{
 "cells": [
  {
   "cell_type": "code",
   "execution_count": 3,
   "id": "86642f49-5894-431f-9702-04b50e845a78",
   "metadata": {},
   "outputs": [
    {
     "data": {
      "text/plain": [
       "'Hello good morning'"
      ]
     },
     "execution_count": 3,
     "metadata": {},
     "output_type": "execute_result"
    }
   ],
   "source": [
    "'hello good morning'.capitalize()"
   ]
  },
  {
   "cell_type": "code",
   "execution_count": 7,
   "id": "97579158-9d14-4e36-b56d-16ef2f9f6ffa",
   "metadata": {},
   "outputs": [],
   "source": [
    "def capitalize(text):\n",
    "    if len(text) != 0:\n",
    "       return text[0].upper() + text[1:].lower()\n",
    "    else:\n",
    "        return none"
   ]
  },
  {
   "cell_type": "code",
   "execution_count": 9,
   "id": "9212aea6-8194-4179-807e-d8435ddb49e8",
   "metadata": {},
   "outputs": [
    {
     "data": {
      "text/plain": [
       "'Hello everyone. good morning'"
      ]
     },
     "execution_count": 9,
     "metadata": {},
     "output_type": "execute_result"
    }
   ],
   "source": [
    "capitalize('hello everyone. good MORNING')"
   ]
  },
  {
   "cell_type": "code",
   "execution_count": null,
   "id": "70b7897f-febd-4af8-be17-9940a2424995",
   "metadata": {},
   "outputs": [],
   "source": []
  }
 ],
 "metadata": {
  "kernelspec": {
   "display_name": "Python 3 (ipykernel)",
   "language": "python",
   "name": "python3"
  },
  "language_info": {
   "codemirror_mode": {
    "name": "ipython",
    "version": 3
   },
   "file_extension": ".py",
   "mimetype": "text/x-python",
   "name": "python",
   "nbconvert_exporter": "python",
   "pygments_lexer": "ipython3",
   "version": "3.11.7"
  }
 },
 "nbformat": 4,
 "nbformat_minor": 5
}
